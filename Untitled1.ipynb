{
 "cells": [
  {
   "cell_type": "markdown",
   "metadata": {},
   "source": [
    "### Sources"
   ]
  },
  {
   "cell_type": "code",
   "execution_count": 3,
   "metadata": {},
   "outputs": [],
   "source": [
    "# - imports des fichiers\n",
    "#https://datacamp-community-prod.s3.amazonaws.com/50d31142-3de0-4159-89b9-18b718a728ef"
   ]
  },
  {
   "cell_type": "code",
   "execution_count": 5,
   "metadata": {},
   "outputs": [],
   "source": [
    "########################################################################\n",
    "### Au cas ou\n",
    "# df.tail()\n",
    "# df.head()\n",
    "# df.columns()\n",
    "# df.rename(columns=[\"old\":\"new\"].inplace=True)\n",
    "# df[[\"col1\":\"col2\"]]\n",
    "# df[(df[\"columns1\"] > 10) & (df[\"col2\"] > 10)]\n",
    "\n",
    "########################################################################\n",
    "# drop enleve les missing values\n",
    "## df1.dropna()\n",
    "## df1.fillna(value=5)\n",
    "## df2[\"col1\"].fillna(value=5 or mean)\n",
    "\n",
    "########################################################################\n",
    "# df[\"col1\"].unique()\n",
    "# df.describe()\n",
    "# df.cov() # covariance\n",
    "# df.corr() # corelation\n",
    "\n",
    "########################################################################\n",
    "\n",
    "## sort\n",
    "#df.sort[[\"col1\", \"\"col2], asending=[true,false]]"
   ]
  },
  {
   "cell_type": "code",
   "execution_count": null,
   "metadata": {},
   "outputs": [],
   "source": [
    "# Nous savons que 70% sont pour les femmes\n",
    "# Medianne ou mpyenne ou enlever les données ?\n",
    "#  -- Pour affiner cela, regarder si on peut affiner cela avec d'autres collones, prix etc etc\n",
    "#  -- \n",
    "#  -- \n",
    "#\n",
    "#"
   ]
  },
  {
   "cell_type": "code",
   "execution_count": 6,
   "metadata": {},
   "outputs": [],
   "source": [
    "# http://www.xavierdupre.fr/app/ensae_teaching_cs/helpsphinx/notebooks/td1a_correction_session_12.html"
   ]
  },
  {
   "cell_type": "code",
   "execution_count": null,
   "metadata": {},
   "outputs": [],
   "source": []
  }
 ],
 "metadata": {
  "kernelspec": {
   "display_name": "Python 3",
   "language": "python",
   "name": "python3"
  },
  "language_info": {
   "codemirror_mode": {
    "name": "ipython",
    "version": 3
   },
   "file_extension": ".py",
   "mimetype": "text/x-python",
   "name": "python",
   "nbconvert_exporter": "python",
   "pygments_lexer": "ipython3",
   "version": "3.6.4"
  }
 },
 "nbformat": 4,
 "nbformat_minor": 2
}
